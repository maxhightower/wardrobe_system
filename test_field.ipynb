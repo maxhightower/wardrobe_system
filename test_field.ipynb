{
 "cells": [
  {
   "cell_type": "code",
   "execution_count": 1,
   "metadata": {},
   "outputs": [],
   "source": [
    "# testing field"
   ]
  },
  {
   "cell_type": "code",
   "execution_count": 2,
   "metadata": {},
   "outputs": [],
   "source": [
    "import colorgram\n"
   ]
  },
  {
   "cell_type": "code",
   "execution_count": 3,
   "metadata": {},
   "outputs": [],
   "source": [
    "from first_file import clothing_article\n",
    "from amazon_webscraper import amazon_image_scraper"
   ]
  },
  {
   "cell_type": "code",
   "execution_count": 4,
   "metadata": {},
   "outputs": [
    {
     "name": "stdout",
     "output_type": "stream",
     "text": [
      "Created folder: C:\\Users\\maxhi\\OneDrive\\Documents\\GitHub\\wardrobe_system\\scraped_images\\Alimens_Gentle_Mens_Button_Down_Regular_Fit_Long_S\n",
      "Saved: C:\\Users\\maxhi\\OneDrive\\Documents\\GitHub\\wardrobe_system\\scraped_images\\Alimens_Gentle_Mens_Button_Down_Regular_Fit_Long_S\\main_image.jpg\n",
      "Image saved to: C:\\Users\\maxhi\\OneDrive\\Documents\\GitHub\\wardrobe_system\\scraped_images\\Alimens_Gentle_Mens_Button_Down_Regular_Fit_Long_S\n"
     ]
    }
   ],
   "source": [
    "save_dir = r\"C:\\Users\\maxhi\\OneDrive\\Documents\\GitHub\\wardrobe_system\\scraped_images\"\n",
    "url = \"https://www.amazon.com/Alimens-Gentle-Button-Regular-Flannel/dp/B07CY3X5HS/ref=sr_1_26\"\n",
    "\n",
    "scraper = amazon_image_scraper(save_dir)\n",
    "try:\n",
    "    scraper.scrape_product_page(url)\n",
    "finally:\n",
    "    scraper.close()"
   ]
  }
 ],
 "metadata": {
  "kernelspec": {
   "display_name": "Python 3",
   "language": "python",
   "name": "python3"
  },
  "language_info": {
   "codemirror_mode": {
    "name": "ipython",
    "version": 3
   },
   "file_extension": ".py",
   "mimetype": "text/x-python",
   "name": "python",
   "nbconvert_exporter": "python",
   "pygments_lexer": "ipython3",
   "version": "3.12.0"
  }
 },
 "nbformat": 4,
 "nbformat_minor": 2
}
