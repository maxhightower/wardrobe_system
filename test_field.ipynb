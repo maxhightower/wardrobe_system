{
 "cells": [
  {
   "cell_type": "code",
   "execution_count": 1,
   "metadata": {},
   "outputs": [],
   "source": [
    "# testing field"
   ]
  },
  {
   "cell_type": "code",
   "execution_count": 2,
   "metadata": {},
   "outputs": [],
   "source": [
    "import colorgram\n",
    "import json\n"
   ]
  },
  {
   "cell_type": "code",
   "execution_count": 3,
   "metadata": {},
   "outputs": [],
   "source": [
    "from amazon_webscraper import amazon_image_scraper\n",
    "from clothing_database import wardrobe_db, clothing_article"
   ]
  },
  {
   "cell_type": "code",
   "execution_count": 4,
   "metadata": {},
   "outputs": [],
   "source": [
    "\n",
    "#save_dir = r\"C:\\Users\\maxhi\\OneDrive\\Documents\\GitHub\\wardrobe_system\\scraped_images\"\n",
    "#url = \"https://www.amazon.com/Alimens-Gentle-Button-Regular-Flannel/dp/B07CY3X5HS/ref=sr_1_26\"\n",
    "\n",
    "#scraper = amazon_image_scraper(save_dir)\n",
    "#try:\n",
    "#    scraper.scrape_product_page(url)\n",
    "#finally:\n",
    "#    scraper.close()\n"
   ]
  },
  {
   "cell_type": "code",
   "execution_count": 6,
   "metadata": {},
   "outputs": [
    {
     "ename": "OperationalError",
     "evalue": "near \"[Previous table creation code for categories, colors, patterns, materials, etc.]\": syntax error",
     "output_type": "error",
     "traceback": [
      "\u001b[1;31m---------------------------------------------------------------------------\u001b[0m",
      "\u001b[1;31mOperationalError\u001b[0m                          Traceback (most recent call last)",
      "Cell \u001b[1;32mIn[6], line 3\u001b[0m\n\u001b[0;32m      1\u001b[0m \u001b[38;5;66;03m# Example usage\u001b[39;00m\n\u001b[0;32m      2\u001b[0m \u001b[38;5;66;03m# Initialize database with image storage location\u001b[39;00m\n\u001b[1;32m----> 3\u001b[0m db \u001b[38;5;241m=\u001b[39m \u001b[43mwardrobe_db\u001b[49m\u001b[43m(\u001b[49m\u001b[38;5;124;43m\"\u001b[39;49m\u001b[38;5;124;43mwardrobe.db\u001b[39;49m\u001b[38;5;124;43m\"\u001b[39;49m\u001b[43m,\u001b[49m\u001b[43m \u001b[49m\u001b[38;5;124;43m\"\u001b[39;49m\u001b[38;5;124;43mclothing_images\u001b[39;49m\u001b[38;5;124;43m\"\u001b[39;49m\u001b[43m)\u001b[49m\n\u001b[0;32m      5\u001b[0m \u001b[38;5;28;01mtry\u001b[39;00m:\n\u001b[0;32m      6\u001b[0m     \u001b[38;5;66;03m# Create a clothing article\u001b[39;00m\n\u001b[0;32m      7\u001b[0m     article \u001b[38;5;241m=\u001b[39m clothing_article(\n\u001b[0;32m      8\u001b[0m         name\u001b[38;5;241m=\u001b[39m\u001b[38;5;124m\"\u001b[39m\u001b[38;5;124mBlue Cotton Shirt\u001b[39m\u001b[38;5;124m\"\u001b[39m,\n\u001b[0;32m      9\u001b[0m         brand\u001b[38;5;241m=\u001b[39m\u001b[38;5;124m\"\u001b[39m\u001b[38;5;124mExample Brand\u001b[39m\u001b[38;5;124m\"\u001b[39m,\n\u001b[0;32m     10\u001b[0m         in_wardrobe\u001b[38;5;241m=\u001b[39m\u001b[38;5;28;01mTrue\u001b[39;00m,\n\u001b[0;32m     11\u001b[0m         date_bought\u001b[38;5;241m=\u001b[39m\u001b[38;5;124m\"\u001b[39m\u001b[38;5;124m2024-03-26\u001b[39m\u001b[38;5;124m\"\u001b[39m\n\u001b[0;32m     12\u001b[0m     )\n",
      "File \u001b[1;32mc:\\Users\\maxhi\\OneDrive\\Documents\\GitHub\\wardrobe_system\\clothing_database.py:39\u001b[0m, in \u001b[0;36mwardrobe_db.__init__\u001b[1;34m(self, db_path, image_folder)\u001b[0m\n\u001b[0;32m     37\u001b[0m \u001b[38;5;28mself\u001b[39m\u001b[38;5;241m.\u001b[39mconn\u001b[38;5;241m.\u001b[39mrow_factory \u001b[38;5;241m=\u001b[39m sqlite3\u001b[38;5;241m.\u001b[39mRow\n\u001b[0;32m     38\u001b[0m \u001b[38;5;28mself\u001b[39m\u001b[38;5;241m.\u001b[39mcursor \u001b[38;5;241m=\u001b[39m \u001b[38;5;28mself\u001b[39m\u001b[38;5;241m.\u001b[39mconn\u001b[38;5;241m.\u001b[39mcursor()\n\u001b[1;32m---> 39\u001b[0m \u001b[38;5;28;43mself\u001b[39;49m\u001b[38;5;241;43m.\u001b[39;49m\u001b[43mcreate_tables\u001b[49m\u001b[43m(\u001b[49m\u001b[43m)\u001b[49m\n\u001b[0;32m     41\u001b[0m \u001b[38;5;66;03m# Initialize webdriver for Amazon scraping\u001b[39;00m\n\u001b[0;32m     42\u001b[0m chrome_options \u001b[38;5;241m=\u001b[39m webdriver\u001b[38;5;241m.\u001b[39mChromeOptions()\n",
      "File \u001b[1;32mc:\\Users\\maxhi\\OneDrive\\Documents\\GitHub\\wardrobe_system\\clothing_database.py:49\u001b[0m, in \u001b[0;36mwardrobe_db.create_tables\u001b[1;34m(self)\u001b[0m\n\u001b[0;32m     47\u001b[0m \u001b[38;5;28;01mdef\u001b[39;00m \u001b[38;5;21mcreate_tables\u001b[39m(\u001b[38;5;28mself\u001b[39m):\n\u001b[0;32m     48\u001b[0m \u001b[38;5;250m    \u001b[39m\u001b[38;5;124;03m\"\"\"Create necessary tables with additional fields for clothing_article properties\"\"\"\u001b[39;00m\n\u001b[1;32m---> 49\u001b[0m     \u001b[38;5;28;43mself\u001b[39;49m\u001b[38;5;241;43m.\u001b[39;49m\u001b[43mcursor\u001b[49m\u001b[38;5;241;43m.\u001b[39;49m\u001b[43mexecutescript\u001b[49m\u001b[43m(\u001b[49m\u001b[38;5;124;43m'''\u001b[39;49m\n\u001b[0;32m     50\u001b[0m \u001b[38;5;124;43m        -- Modified clothing_items table to match clothing_article class\u001b[39;49m\n\u001b[0;32m     51\u001b[0m \u001b[38;5;124;43m        CREATE TABLE IF NOT EXISTS clothing_items (\u001b[39;49m\n\u001b[0;32m     52\u001b[0m \u001b[38;5;124;43m            item_id INTEGER PRIMARY KEY AUTOINCREMENT,\u001b[39;49m\n\u001b[0;32m     53\u001b[0m \u001b[38;5;124;43m            name TEXT NOT NULL,\u001b[39;49m\n\u001b[0;32m     54\u001b[0m \u001b[38;5;124;43m            brand TEXT,\u001b[39;49m\n\u001b[0;32m     55\u001b[0m \u001b[38;5;124;43m            in_wardrobe INTEGER DEFAULT 1,\u001b[39;49m\n\u001b[0;32m     56\u001b[0m \u001b[38;5;124;43m            date_bought TEXT,\u001b[39;49m\n\u001b[0;32m     57\u001b[0m \u001b[38;5;124;43m            image_path TEXT,\u001b[39;49m\n\u001b[0;32m     58\u001b[0m \u001b[38;5;124;43m            category_id INTEGER,\u001b[39;49m\n\u001b[0;32m     59\u001b[0m \u001b[38;5;124;43m            color_id INTEGER,\u001b[39;49m\n\u001b[0;32m     60\u001b[0m \u001b[38;5;124;43m            pattern_id INTEGER,\u001b[39;49m\n\u001b[0;32m     61\u001b[0m \u001b[38;5;124;43m            material_id INTEGER,\u001b[39;49m\n\u001b[0;32m     62\u001b[0m \u001b[38;5;124;43m            FOREIGN KEY (category_id) REFERENCES categories (category_id),\u001b[39;49m\n\u001b[0;32m     63\u001b[0m \u001b[38;5;124;43m            FOREIGN KEY (color_id) REFERENCES colors (color_id),\u001b[39;49m\n\u001b[0;32m     64\u001b[0m \u001b[38;5;124;43m            FOREIGN KEY (pattern_id) REFERENCES patterns (pattern_id),\u001b[39;49m\n\u001b[0;32m     65\u001b[0m \u001b[38;5;124;43m            FOREIGN KEY (material_id) REFERENCES materials (material_id)\u001b[39;49m\n\u001b[0;32m     66\u001b[0m \u001b[38;5;124;43m        );\u001b[39;49m\n\u001b[0;32m     67\u001b[0m \u001b[38;5;124;43m        \u001b[39;49m\n\u001b[0;32m     68\u001b[0m \u001b[38;5;124;43m        -- Store URLs for items\u001b[39;49m\n\u001b[0;32m     69\u001b[0m \u001b[38;5;124;43m        CREATE TABLE IF NOT EXISTS item_urls (\u001b[39;49m\n\u001b[0;32m     70\u001b[0m \u001b[38;5;124;43m            item_id INTEGER,\u001b[39;49m\n\u001b[0;32m     71\u001b[0m \u001b[38;5;124;43m            url TEXT,\u001b[39;49m\n\u001b[0;32m     72\u001b[0m \u001b[38;5;124;43m            price REAL,\u001b[39;49m\n\u001b[0;32m     73\u001b[0m \u001b[38;5;124;43m            date_added TEXT,\u001b[39;49m\n\u001b[0;32m     74\u001b[0m \u001b[38;5;124;43m            FOREIGN KEY (item_id) REFERENCES clothing_items (item_id)\u001b[39;49m\n\u001b[0;32m     75\u001b[0m \u001b[38;5;124;43m        );\u001b[39;49m\n\u001b[0;32m     76\u001b[0m \u001b[38;5;124;43m        \u001b[39;49m\n\u001b[0;32m     77\u001b[0m \u001b[38;5;124;43m        -- Store extracted colors\u001b[39;49m\n\u001b[0;32m     78\u001b[0m \u001b[38;5;124;43m        CREATE TABLE IF NOT EXISTS item_colors (\u001b[39;49m\n\u001b[0;32m     79\u001b[0m \u001b[38;5;124;43m            item_id INTEGER,\u001b[39;49m\n\u001b[0;32m     80\u001b[0m \u001b[38;5;124;43m            color_hex TEXT,\u001b[39;49m\n\u001b[0;32m     81\u001b[0m \u001b[38;5;124;43m            percentage REAL,\u001b[39;49m\n\u001b[0;32m     82\u001b[0m \u001b[38;5;124;43m            FOREIGN KEY (item_id) REFERENCES clothing_items (item_id)\u001b[39;49m\n\u001b[0;32m     83\u001b[0m \u001b[38;5;124;43m        );\u001b[39;49m\n\u001b[0;32m     84\u001b[0m \u001b[38;5;124;43m        \u001b[39;49m\n\u001b[0;32m     85\u001b[0m \u001b[38;5;124;43m        -- Store tags and text\u001b[39;49m\n\u001b[0;32m     86\u001b[0m \u001b[38;5;124;43m        CREATE TABLE IF NOT EXISTS item_tags (\u001b[39;49m\n\u001b[0;32m     87\u001b[0m \u001b[38;5;124;43m            item_id INTEGER,\u001b[39;49m\n\u001b[0;32m     88\u001b[0m \u001b[38;5;124;43m            tag TEXT,\u001b[39;49m\n\u001b[0;32m     89\u001b[0m \u001b[38;5;124;43m            FOREIGN KEY (item_id) REFERENCES clothing_items (item_id)\u001b[39;49m\n\u001b[0;32m     90\u001b[0m \u001b[38;5;124;43m        );\u001b[39;49m\n\u001b[0;32m     91\u001b[0m \u001b[38;5;124;43m        \u001b[39;49m\n\u001b[0;32m     92\u001b[0m \u001b[38;5;124;43m        -- Rest of the tables remain the same...\u001b[39;49m\n\u001b[0;32m     93\u001b[0m \u001b[38;5;124;43m        [Previous table creation code for categories, colors, patterns, materials, etc.]\u001b[39;49m\n\u001b[0;32m     94\u001b[0m \u001b[38;5;124;43m    \u001b[39;49m\u001b[38;5;124;43m'''\u001b[39;49m\u001b[43m)\u001b[49m\n\u001b[0;32m     95\u001b[0m     \u001b[38;5;28mself\u001b[39m\u001b[38;5;241m.\u001b[39mconn\u001b[38;5;241m.\u001b[39mcommit()\n",
      "\u001b[1;31mOperationalError\u001b[0m: near \"[Previous table creation code for categories, colors, patterns, materials, etc.]\": syntax error"
     ]
    }
   ],
   "source": [
    "# Example usage\n",
    "# Initialize database with image storage location\n",
    "db = wardrobe_db(\"wardrobe.db\", \"clothing_images\")\n",
    "\n",
    "try:\n",
    "    # Create a clothing article\n",
    "    article = clothing_article(\n",
    "        name=\"Blue Cotton Shirt\",\n",
    "        brand=\"Example Brand\",\n",
    "        in_wardrobe=True,\n",
    "        date_bought=\"2024-03-26\"\n",
    "    )\n",
    "    \n",
    "    # Add it to database with Amazon scraping\n",
    "    amazon_url = \"https://www.amazon.com/Alimens-Gentle-Button-Regular-Flannel/dp/B07CY3X5HS\"\n",
    "    item_id = db.add_from_clothing_article(article, amazon_url)\n",
    "    \n",
    "    if item_id:\n",
    "        print(f\"Successfully added item with ID: {item_id}\")\n",
    "        print(\"Extracted colors:\", article.colors)\n",
    "        print(\"Generated tags:\", article.tags)\n",
    "finally:\n",
    "    db.close()"
   ]
  },
  {
   "cell_type": "code",
   "execution_count": null,
   "metadata": {},
   "outputs": [
    {
     "name": "stdout",
     "output_type": "stream",
     "text": [
      "Saved main image to: C:\\Users\\maxhi\\OneDrive\\Documents\\GitHub\\wardrobe_system\\scraped_images\\Alimens_Gentle_Mens_Button_Down_Regular_Fit_Long_S\\main_image.jpg\n",
      "Error extracting product details: Message: \n",
      "Stacktrace:\n",
      "\tGetHandleVerifier [0x00007FF74C946CB5+28821]\n",
      "\t(No symbol) [0x00007FF74C8B3840]\n",
      "\t(No symbol) [0x00007FF74C75578A]\n",
      "\t(No symbol) [0x00007FF74C7A91BE]\n",
      "\t(No symbol) [0x00007FF74C7A94AC]\n",
      "\t(No symbol) [0x00007FF74C7F2647]\n",
      "\t(No symbol) [0x00007FF74C7CF33F]\n",
      "\t(No symbol) [0x00007FF74C7EF412]\n",
      "\t(No symbol) [0x00007FF74C7CF0A3]\n",
      "\t(No symbol) [0x00007FF74C79A778]\n",
      "\t(No symbol) [0x00007FF74C79B8E1]\n",
      "\tGetHandleVerifier [0x00007FF74CC7FCAD+3408013]\n",
      "\tGetHandleVerifier [0x00007FF74CC9741F+3504127]\n",
      "\tGetHandleVerifier [0x00007FF74CC8B5FD+3455453]\n",
      "\tGetHandleVerifier [0x00007FF74CA0BDBB+835995]\n",
      "\t(No symbol) [0x00007FF74C8BEB5F]\n",
      "\t(No symbol) [0x00007FF74C8BA814]\n",
      "\t(No symbol) [0x00007FF74C8BA9AD]\n",
      "\t(No symbol) [0x00007FF74C8AA199]\n",
      "\tBaseThreadInitThunk [0x00007FFC8741259D+29]\n",
      "\tRtlUserThreadStart [0x00007FFC886EAF38+40]\n",
      "\n",
      "Scraping result: Successfully scraped product\n",
      "\n",
      "Product folder: C:\\Users\\maxhi\\OneDrive\\Documents\\GitHub\\wardrobe_system\\scraped_images\\Alimens_Gentle_Mens_Button_Down_Regular_Fit_Long_S\n",
      "\n",
      "About This Item:\n",
      "\n",
      "Additional Information:\n",
      "\n",
      "Stored product details: {\n",
      "  \"stored_details\": {\n",
      "    \"about_item\": [],\n",
      "    \"additional_info\": {}\n",
      "  },\n",
      "  \"features\": []\n",
      "}\n"
     ]
    }
   ],
   "source": [
    "save_dir = r\"C:\\Users\\maxhi\\OneDrive\\Documents\\GitHub\\wardrobe_system\\scraped_images\"\n",
    "scraper = amazon_image_scraper(save_dir)\n",
    "\n",
    "try:\n",
    "    url = \"https://www.amazon.com/Alimens-Gentle-Button-Regular-Flannel/dp/B07CY3X5HS\"\n",
    "    \n",
    "    # Try to scrape the URL\n",
    "    success, message, folder, details = scraper.scrape_product_page(url)\n",
    "    \n",
    "    print(f\"Scraping result: {message}\")\n",
    "    if success:\n",
    "        print(\"\\nProduct folder:\", folder)\n",
    "        print(\"\\nAbout This Item:\")\n",
    "        for detail in details.get('about_item', []):\n",
    "            print(f\"- {detail}\")\n",
    "        print(\"\\nAdditional Information:\")\n",
    "        for key, value in details.get('additional_info', {}).items():\n",
    "            print(f\"{key}: {value}\")\n",
    "            \n",
    "    # Retrieve stored details\n",
    "    stored_info = scraper.get_product_details(url)\n",
    "    if stored_info:\n",
    "        print(\"\\nStored product details:\", json.dumps(stored_info, indent=2))\n",
    "        \n",
    "finally:\n",
    "    scraper.close()"
   ]
  }
 ],
 "metadata": {
  "kernelspec": {
   "display_name": "Python 3",
   "language": "python",
   "name": "python3"
  },
  "language_info": {
   "codemirror_mode": {
    "name": "ipython",
    "version": 3
   },
   "file_extension": ".py",
   "mimetype": "text/x-python",
   "name": "python",
   "nbconvert_exporter": "python",
   "pygments_lexer": "ipython3",
   "version": "3.12.0"
  }
 },
 "nbformat": 4,
 "nbformat_minor": 2
}
